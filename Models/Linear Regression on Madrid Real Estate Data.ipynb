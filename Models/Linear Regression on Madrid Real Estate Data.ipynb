{
 "cells": [
  {
   "cell_type": "code",
   "execution_count": 0,
   "metadata": {
    "application/vnd.databricks.v1+cell": {
     "cellMetadata": {
      "byteLimit": 2048000,
      "rowLimit": 10000
     },
     "inputWidgets": {},
     "nuid": "52839202-0719-469e-aa86-494ee4c9bad7",
     "showTitle": false,
     "tableResultSettingsMap": {},
     "title": ""
    }
   },
   "outputs": [],
   "source": [
    "%run ../ConfigFolder/ConfigSAS"
   ]
  },
  {
   "cell_type": "code",
   "execution_count": 0,
   "metadata": {
    "application/vnd.databricks.v1+cell": {
     "cellMetadata": {
      "byteLimit": 2048000,
      "rowLimit": 10000
     },
     "inputWidgets": {},
     "nuid": "63cccdc0-b2b0-491f-97e9-a70e0bc8724f",
     "showTitle": false,
     "tableResultSettingsMap": {},
     "title": ""
    }
   },
   "outputs": [],
   "source": [
    "model_combined_Path = generate_path('g-model-madrid-min-features-combined', 'goldlayer')\n",
    "\n",
    "df_model_combined = spark.read.format(\"delta\").load(model_combined_Path)\n",
    "\n",
    "display(df_model_combined)"
   ]
  },
  {
   "cell_type": "code",
   "execution_count": 0,
   "metadata": {
    "application/vnd.databricks.v1+cell": {
     "cellMetadata": {
      "byteLimit": 2048000,
      "rowLimit": 10000
     },
     "inputWidgets": {},
     "nuid": "9ed972a7-a0cd-4842-9bcf-c677f3825a95",
     "showTitle": false,
     "tableResultSettingsMap": {},
     "title": ""
    }
   },
   "outputs": [],
   "source": [
    "from pyspark.sql.functions import col, substring\n",
    "\n",
    "df_model_combined = df_model_combined.withColumn(\"year\", substring(col(\"period\"), 1, 4)) \\\n",
    "                                     .withColumn(\"month\", substring(col(\"period\"), 6, 2))\n",
    "\n",
    "display(df_model_combined)"
   ]
  },
  {
   "cell_type": "code",
   "execution_count": 0,
   "metadata": {
    "application/vnd.databricks.v1+cell": {
     "cellMetadata": {
      "byteLimit": 2048000,
      "rowLimit": 10000
     },
     "inputWidgets": {},
     "nuid": "1572f02f-08fc-4ecd-8aae-73675e194306",
     "showTitle": false,
     "tableResultSettingsMap": {},
     "title": ""
    }
   },
   "outputs": [],
   "source": [
    "from pyspark.sql.functions import when\n",
    "\n",
    "df_model_combined = df_model_combined.withColumn(\"quarter\", \n",
    "    when(col(\"month\") == \"3\", \"1\")\n",
    "    .when(col(\"month\") == \"6\", \"2\")\n",
    "    .when(col(\"month\") == \"9\", \"3\")\n",
    "    .when(col(\"month\") == \"2\", \"4\")\n",
    ").drop(\"month\", \"period\")\n",
    "\n",
    "display(df_model_combined)"
   ]
  },
  {
   "cell_type": "code",
   "execution_count": 0,
   "metadata": {
    "application/vnd.databricks.v1+cell": {
     "cellMetadata": {
      "byteLimit": 2048000,
      "rowLimit": 10000
     },
     "inputWidgets": {},
     "nuid": "d9974520-a0f7-4d15-9d74-73389aacc143",
     "showTitle": false,
     "tableResultSettingsMap": {},
     "title": ""
    }
   },
   "outputs": [],
   "source": [
    "from pyspark.sql.functions import col\n",
    "\n",
    "# Convertir columnas al tipo adecuado\n",
    "df_cleaned = df_model_combined \\\n",
    "    .withColumn('bathrooms', col('bathrooms').cast('int')) \\\n",
    "    .withColumn('isparking', col('isparkingspaceincludedinprice').cast('int')) \\\n",
    "    .withColumn('latitude', col('latitude').cast('float')) \\\n",
    "    .withColumn('longitude', col('longitude').cast('float')) \\\n",
    "    .withColumn('price', col('price').cast('float')) \\\n",
    "    .withColumn('rooms', col('rooms').cast('int')) \\\n",
    "    .withColumn('size', col('size').cast('float')) \\\n",
    "    .withColumn('year', col('year').cast('int')) \\\n",
    "    .withColumn('quarter', col('quarter').cast('int'))\n",
    "\n",
    "# Verifica el esquema para asegurarte de que los tipos de datos sean correctos\n",
    "df_cleaned.printSchema()\n"
   ]
  },
  {
   "cell_type": "code",
   "execution_count": 0,
   "metadata": {
    "application/vnd.databricks.v1+cell": {
     "cellMetadata": {
      "byteLimit": 2048000,
      "rowLimit": 10000
     },
     "inputWidgets": {},
     "nuid": "3d497919-3744-4088-8355-c973e69e65c5",
     "showTitle": false,
     "tableResultSettingsMap": {},
     "title": ""
    }
   },
   "outputs": [],
   "source": [
    "display(df_cleaned)"
   ]
  },
  {
   "cell_type": "code",
   "execution_count": 0,
   "metadata": {
    "application/vnd.databricks.v1+cell": {
     "cellMetadata": {},
     "inputWidgets": {},
     "nuid": "08041792-0127-479b-b622-4d10a4222800",
     "showTitle": false,
     "tableResultSettingsMap": {},
     "title": ""
    }
   },
   "outputs": [],
   "source": [
    "\"\"\"\n",
    "df_combined.write.format(\"delta\").mode(\"overwrite\").option(\"mergeSchema\", \"true\").save(generate_path('g-model-madrid-min-features-combined', 'goldlayer'))\n",
    "\n",
    "df_filtered2024.write.format(\"delta\").mode(\"overwrite\").option(\"mergeSchema\", \"true\").save(generate_path('g-model-madrid-min-features-2024', 'goldlayer'))\n",
    "\n",
    "df_selected_2018_renamed.write.format(\"delta\").mode(\"overwrite\").option(\"mergeSchema\", \"true\").save(generate_path('g-model-madrid-min-features-2018', 'goldlayer'))\n",
    "\"\"\""
   ]
  },
  {
   "cell_type": "code",
   "execution_count": 0,
   "metadata": {
    "application/vnd.databricks.v1+cell": {
     "cellMetadata": {
      "byteLimit": 2048000,
      "rowLimit": 10000
     },
     "inputWidgets": {},
     "nuid": "bc3b477d-d7e5-42d8-90c4-24957fefcf6c",
     "showTitle": false,
     "tableResultSettingsMap": {},
     "title": ""
    }
   },
   "outputs": [],
   "source": [
    "from pyspark.sql.functions import col\n",
    "from pyspark.ml.feature import VectorAssembler\n",
    "from pyspark.ml.regression import LinearRegression\n",
    "from pyspark.ml.evaluation import RegressionEvaluator\n",
    "import mlflow\n",
    "import mlflow.spark\n",
    "\n",
    "df_cleaned = df_cleaned.withColumn('isparking', col('isparkingspaceincludedinprice').cast('int'))\n",
    "\n",
    "# Definir las columnas a usar como features\n",
    "feature_cols = ['bathrooms', 'isparking', 'latitude', 'longitude', 'rooms', 'size', 'year', 'quarter']\n",
    "\n",
    "# Ensamblar las características en un solo vector\n",
    "assembler = VectorAssembler(inputCols=feature_cols, outputCol='features', handleInvalid='skip')\n",
    "df_prepared = assembler.transform(df_cleaned).select('features', 'price')\n",
    "\n",
    "# Dividir los datos en entrenamiento y prueba (80% / 20%)\n",
    "train_data, test_data = df_prepared.randomSplit([0.8, 0.2], seed=42)\n",
    "\n",
    "# Crear el modelo de regresión lineal\n",
    "lr = LinearRegression(featuresCol='features', labelCol='price', predictionCol='prediction')\n",
    "\n",
    "# Entrenar el modelo\n",
    "lr_model = lr.fit(train_data)\n",
    "\n",
    "# Realizar predicciones sobre el conjunto de prueba\n",
    "predictions = lr_model.transform(test_data)\n",
    "\n",
    "# Evaluar el modelo usando RMSE (Raíz del error cuadrático medio)\n",
    "evaluator = RegressionEvaluator(labelCol='price', predictionCol='prediction', metricName='rmse')\n",
    "rmse = evaluator.evaluate(predictions)\n",
    "print(f\"RMSE: {rmse}\")\n",
    "\n",
    "# Registrar el modelo en MLflow\n",
    "mlflow.spark.log_model(lr_model, \"linear-regression-model\")"
   ]
  },
  {
   "cell_type": "code",
   "execution_count": 0,
   "metadata": {
    "application/vnd.databricks.v1+cell": {
     "cellMetadata": {},
     "inputWidgets": {},
     "nuid": "9915dc6f-b6fd-465d-b982-5b7571c859cb",
     "showTitle": false,
     "tableResultSettingsMap": {},
     "title": ""
    }
   },
   "outputs": [],
   "source": []
  },
  {
   "cell_type": "code",
   "execution_count": 0,
   "metadata": {
    "application/vnd.databricks.v1+cell": {
     "cellMetadata": {},
     "inputWidgets": {},
     "nuid": "0a92501c-6a2a-4d5a-94ae-0b69fe509a71",
     "showTitle": false,
     "tableResultSettingsMap": {},
     "title": ""
    }
   },
   "outputs": [],
   "source": [
    "model_uri = \"runs:/<RUN_ID>/linear-regression-model\"\n",
    "mlflow.register_model(model_uri, \"RealEstatePricePrediction\")\n"
   ]
  },
  {
   "cell_type": "code",
   "execution_count": 0,
   "metadata": {
    "application/vnd.databricks.v1+cell": {
     "cellMetadata": {},
     "inputWidgets": {},
     "nuid": "1669caa2-87b0-481c-a64d-ae20c282b153",
     "showTitle": false,
     "tableResultSettingsMap": {},
     "title": ""
    }
   },
   "outputs": [],
   "source": [
    "databricks models serve --model-name RealEstatePricePrediction --port 5000\n"
   ]
  },
  {
   "cell_type": "code",
   "execution_count": 0,
   "metadata": {
    "application/vnd.databricks.v1+cell": {
     "cellMetadata": {},
     "inputWidgets": {},
     "nuid": "23e9195d-6fd4-4b10-a2d0-bc84b44dd0c0",
     "showTitle": false,
     "tableResultSettingsMap": {},
     "title": ""
    }
   },
   "outputs": [],
   "source": [
    "curl -X POST -H \"Content-Type: application/json\" --data '{\"features\": [3, 1, 40.454, -3.651, 5, 375]}' http://<endpoint-ip>:5000/predictions\n"
   ]
  },
  {
   "cell_type": "code",
   "execution_count": 0,
   "metadata": {
    "application/vnd.databricks.v1+cell": {
     "cellMetadata": {},
     "inputWidgets": {},
     "nuid": "626cd82d-73f7-45dc-aef0-9d473bd2f66e",
     "showTitle": false,
     "tableResultSettingsMap": {},
     "title": ""
    }
   },
   "outputs": [],
   "source": []
  }
 ],
 "metadata": {
  "application/vnd.databricks.v1+notebook": {
   "computePreferences": null,
   "dashboards": [],
   "environmentMetadata": {
    "base_environment": "",
    "client": "1"
   },
   "language": "python",
   "notebookMetadata": {
    "pythonIndentUnit": 4
   },
   "notebookName": "Linear Regression on Madrid Real Estate Data",
   "widgets": {}
  },
  "language_info": {
   "name": "python"
  }
 },
 "nbformat": 4,
 "nbformat_minor": 0
}
